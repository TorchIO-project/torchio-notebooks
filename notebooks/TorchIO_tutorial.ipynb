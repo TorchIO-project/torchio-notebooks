{
  "nbformat": 4,
  "nbformat_minor": 0,
  "metadata": {
    "colab": {
      "name": "TorchIO tutorial.ipynb",
      "provenance": [],
      "collapsed_sections": []
    },
    "kernelspec": {
      "name": "python3",
      "display_name": "Python 3"
    },
    "accelerator": "GPU"
  },
  "cells": [
    {
      "cell_type": "markdown",
      "metadata": {
        "id": "E-D50uSwNetB"
      },
      "source": [
        "# TorchIO: a tutorial"
      ]
    },
    {
      "cell_type": "markdown",
      "metadata": {
        "id": "OoHXr1a4_9Ll"
      },
      "source": [
        "In this tutorial, we will train a [3D U-Net](https://link.springer.com/chapter/10.1007/978-3-319-46723-8_49) to perform brain segmentation from T1-weighted MRI using the [Information eXtraction from Images (IXI) dataset](https://brain-development.org/ixi-dataset/), a publicly available dataset of almost 600 subjects."
      ]
    },
    {
      "cell_type": "markdown",
      "metadata": {
        "id": "BXkCTL7DAQaR"
      },
      "source": [
        "## Setup"
      ]
    },
    {
      "cell_type": "code",
      "metadata": {
        "id": "PZpUoQ26oOQD"
      },
      "source": [
        "# Config\n",
        "seed = 42  # for reproducibility\n",
        "training_split_ratio = 0.9  # use 90% of samples for training, 10% for testing\n",
        "num_epochs = 5\n",
        "\n",
        "# If the following values are False, the models will be downloaded and not computed\n",
        "compute_histograms = False\n",
        "train_whole_images = False \n",
        "train_patches = False"
      ],
      "execution_count": 1,
      "outputs": []
    },
    {
      "cell_type": "markdown",
      "metadata": {
        "id": "wodgKLKzNwO-"
      },
      "source": [
        "Install some PyPI packages:"
      ]
    },
    {
      "cell_type": "code",
      "metadata": {
        "id": "zDN2HynH3Rk2",
        "collapsed": true
      },
      "source": [
        "!pip install --quiet --upgrade pip\n",
        "!pip install --quiet highresnet==0.10.2\n",
        "!pip install --quiet unet==0.7.3\n",
        "!pip install --quiet torchio==0.18.11\n",
        "!apt-get -qq install tree"
      ],
      "execution_count": 2,
      "outputs": []
    },
    {
      "cell_type": "markdown",
      "metadata": {
        "id": "5G5vLwUkN1PS"
      },
      "source": [
        "Import modules:"
      ]
    },
    {
      "cell_type": "code",
      "metadata": {
        "id": "b0NdJiFW3Uy7",
        "colab": {
          "base_uri": "https://localhost:8080/"
        },
        "collapsed": true,
        "outputId": "f1db4fef-9b95-4216-ed65-79fa4761a93c"
      },
      "source": [
        "import copy\n",
        "import enum\n",
        "import random; random.seed(seed)\n",
        "import warnings\n",
        "import tempfile\n",
        "import subprocess\n",
        "import multiprocessing\n",
        "from pathlib import Path\n",
        "\n",
        "import torch\n",
        "import torch.nn.functional as F\n",
        "from torchvision.utils import make_grid, save_image\n",
        "torch.manual_seed(seed)\n",
        "\n",
        "import torchio as tio\n",
        "from torchio import AFFINE, DATA\n",
        "\n",
        "import numpy as np\n",
        "import nibabel as nib\n",
        "from unet import UNet\n",
        "from scipy import stats\n",
        "import SimpleITK as sitk\n",
        "import matplotlib.pyplot as plt\n",
        "\n",
        "from IPython import display\n",
        "from tqdm.notebook import tqdm\n",
        "\n",
        "print('TorchIO version:', tio.__version__)"
      ],
      "execution_count": 3,
      "outputs": [
        {
          "output_type": "stream",
          "text": [
            "TorchIO version: 0.18.11\n"
          ],
          "name": "stdout"
        }
      ]
    },
    {
      "cell_type": "markdown",
      "metadata": {
        "id": "jH1T8aSAN4zP"
      },
      "source": [
        "Define some visualization functions:"
      ]
    },
    {
      "cell_type": "code",
      "metadata": {
        "id": "QS_PG3sMsH4w",
        "cellView": "form"
      },
      "source": [
        "#@title (Helper functions, double-click here to expand)\n",
        "def show_nifti(image_path_or_image, colormap='gray'):\n",
        "    if isinstance(image_path_or_image, nib.AnalyzeImage):\n",
        "        nii = image_path_or_image\n",
        "    else:\n",
        "        image_path = image_path_or_image\n",
        "        nii = nib.load(str(image_path))\n",
        "    k = int(nii.shape[-1] / 2)\n",
        "    plt.imshow(nii.dataobj[..., k], cmap=colormap)\n",
        "\n",
        "def show_subject(subject, image_name, label_name=None):\n",
        "    if label_name is not None:\n",
        "        subject = copy.deepcopy(subject)\n",
        "        affine = subject[label_name].affine\n",
        "        label_image = subject[label_name].as_sitk()\n",
        "        label_image = sitk.Cast(label_image, sitk.sitkUInt8)\n",
        "        border = sitk.BinaryContour(label_image)\n",
        "        border_array, _ = tio.io.sitk_to_nib(border)\n",
        "        border_tensor = torch.from_numpy(border_array)[0]\n",
        "        image_tensor = subject[image_name].data[0]\n",
        "        image_tensor[border_tensor > 0.5] = image_tensor.max()\n",
        "    with tempfile.NamedTemporaryFile(suffix='.nii') as f:\n",
        "        subject[image_name].save(f.name)\n",
        "        show_nifti(f.name)\n",
        "\n",
        "def plot_histogram(axis, tensor, num_positions=100, label=None, alpha=0.05, color=None):\n",
        "    values = tensor.numpy().ravel()\n",
        "    kernel = stats.gaussian_kde(values)\n",
        "    positions = np.linspace(values.min(), values.max(), num=num_positions)\n",
        "    histogram = kernel(positions)\n",
        "    kwargs = dict(linewidth=1, color='black' if color is None else color, alpha=alpha)\n",
        "    if label is not None:\n",
        "        kwargs['label'] = label\n",
        "    axis.plot(positions, histogram, **kwargs)"
      ],
      "execution_count": 4,
      "outputs": []
    },
    {
      "cell_type": "markdown",
      "metadata": {
        "id": "TMIOAv6OB2xa"
      },
      "source": [
        "## Data"
      ]
    },
    {
      "cell_type": "markdown",
      "metadata": {
        "id": "WM3snbYkRmsL"
      },
      "source": [
        "### Dataset"
      ]
    },
    {
      "cell_type": "markdown",
      "metadata": {
        "id": "0tp1QrfvHD3C"
      },
      "source": [
        "I downloaded the [IXI](https://brain-development.org/ixi-dataset/) dataset, segmented all brains using [ROBEX](https://ieeexplore.ieee.org/document/5742706), affine-registered everything to an MNI template with [NiftyReg](https://github.com/KCL-BMEIS/niftyreg), resampled everything into a space with a very large voxel spacing and funny orientation with [ITK](https://itk.org/) and uploaded a zip file to Dropbox.\n",
        "It will be our medical image MNIST."
      ]
    },
    {
      "cell_type": "code",
      "metadata": {
        "id": "eZAzgqtE69OM"
      },
      "source": [
        "# Dataset\n",
        "dataset_url = 'https://www.dropbox.com/s/ogxjwjxdv5mieah/ixi_tiny.zip?dl=0'\n",
        "dataset_path = 'ixi_tiny.zip'\n",
        "dataset_dir_name = 'ixi_tiny'\n",
        "dataset_dir = Path(dataset_dir_name)\n",
        "histogram_landmarks_path = 'landmarks.npy'"
      ],
      "execution_count": 5,
      "outputs": []
    },
    {
      "cell_type": "code",
      "metadata": {
        "id": "4_bOsFeOl-_l",
        "colab": {
          "base_uri": "https://localhost:8080/"
        },
        "outputId": "800c97f1-84e3-4b4d-e864-8980940a46d7"
      },
      "source": [
        "if not dataset_dir.is_dir():\n",
        "    !curl --silent --output {dataset_path} --location {dataset_url} \n",
        "    !unzip -qq {dataset_path}\n",
        "!tree -d {dataset_dir_name}"
      ],
      "execution_count": 6,
      "outputs": [
        {
          "output_type": "stream",
          "text": [
            "ixi_tiny\n",
            "├── image\n",
            "└── label\n",
            "\n",
            "2 directories\n"
          ],
          "name": "stdout"
        }
      ]
    },
    {
      "cell_type": "markdown",
      "metadata": {
        "id": "ebUKOkQlHmXR"
      },
      "source": [
        "### [`SubjectsDataset`](https://torchio.readthedocs.io/data/dataset.html)\n",
        "\n",
        "This is one of the most important classes in the library. It inherits from `torch.utils.data.Dataset`. It receives as input a list of [`torchio.Subject`](https://torchio.readthedocs.io/data/subject.html#subject) instances and an optional [`torchio.transforms.Transform`](https://torchio.readthedocs.io/transforms/transforms.html#torchio.transforms.Transform). \n",
        "\n",
        "The inputs to the subject class are instances of `torchio.Image`, such as [`torchio.ScalarImage`](https://torchio.readthedocs.io/data/image.html#scalarimage) or [`torchio.LabelMap`](https://torchio.readthedocs.io/data/image.html#labelmap). The image class will be used by the transforms to decide whether or not to perform the operation. For example, spatial transforms must apply to both, but intensity transforms must apply to scalar images only."
      ]
    },
    {
      "cell_type": "code",
      "metadata": {
        "id": "Wi4v_xRe_0kG",
        "colab": {
          "base_uri": "https://localhost:8080/"
        },
        "outputId": "0c54546a-9965-4aa9-e80f-6eddfa6ebb9d"
      },
      "source": [
        "images_dir = dataset_dir / 'image'\n",
        "labels_dir = dataset_dir / 'label'\n",
        "image_paths = sorted(images_dir.glob('*.nii.gz'))\n",
        "label_paths = sorted(labels_dir.glob('*.nii.gz'))\n",
        "assert len(image_paths) == len(label_paths)\n",
        "\n",
        "subjects = []\n",
        "for (image_path, label_path) in zip(image_paths, label_paths):\n",
        "    subject = tio.Subject(\n",
        "        mri=tio.ScalarImage(image_path),\n",
        "        brain=tio.LabelMap(label_path),\n",
        "    )\n",
        "    subjects.append(subject)\n",
        "dataset = tio.SubjectsDataset(subjects)\n",
        "print('Dataset size:', len(dataset), 'subjects')"
      ],
      "execution_count": 7,
      "outputs": [
        {
          "output_type": "stream",
          "text": [
            "Dataset size: 566 subjects\n"
          ],
          "name": "stdout"
        }
      ]
    },
    {
      "cell_type": "markdown",
      "metadata": {
        "id": "7LUKg_6mRBFY"
      },
      "source": [
        "Let's take a look into the sample returned by the dataset:"
      ]
    },
    {
      "cell_type": "code",
      "metadata": {
        "id": "zzVqpgRf5eFN",
        "colab": {
          "base_uri": "https://localhost:8080/",
          "height": 302
        },
        "outputId": "06e4ae89-53d4-476c-c58d-ed6360a343b0"
      },
      "source": [
        "one_subject = dataset[0]\n",
        "print(one_subject)\n",
        "print(one_subject.mri)\n",
        "show_subject(tio.ToCanonical()(one_subject), 'mri', label_name='brain')"
      ],
      "execution_count": 8,
      "outputs": [
        {
          "output_type": "stream",
          "text": [
            "Subject(Keys: ('mri', 'brain'); images: 2)\n",
            "ScalarImage(shape: (1, 83, 44, 55); spacing: (2.18, 4.13, 3.95); orientation: SRA+; memory: 784.6 KiB; dtype: torch.ShortTensor)\n"
          ],
          "name": "stdout"
        },
        {
          "output_type": "display_data",
          "data": {
            "image/png": "[encoded data removed]",
            "text/plain": [
              "<Figure size 432x288 with 1 Axes>"
            ]
          },
          "metadata": {
            "tags": [],
            "needs_background": "light"
          }
        }
      ]
    },
    {
      "cell_type": "markdown",
      "metadata": {
        "id": "PJLa4KMQYdRE"
      },
      "source": [
        "## [Transforms](https://torchio.readthedocs.io/transforms/transforms.html#transforms)\n",
        "\n",
        "For a full tutorial on TorchIO transforms, check out our [Data preprocessing and augmentation using TorchIO](https://github.com/fepegar/torchio/blob/master/examples/README.md) tutorial.\n",
        "\n",
        "[![Open In Colab](https://colab.research.google.com/assets/colab-badge.svg)](https://github.com/fepegar/torchio/blob/master/examples/README.md)"
      ]
    },
    {
      "cell_type": "markdown",
      "metadata": {
        "id": "chJa2GHra0lb"
      },
      "source": [
        "#### Normalization\n",
        "\n",
        "We will use the [`HistogramStandardization`]() and the [`ZNormalization`]() transforms to normalize our images intensity."
      ]
    },
    {
      "cell_type": "markdown",
      "metadata": {
        "id": "vgMOMMulg8Lf"
      },
      "source": [
        "The images have been acquired by different MRI scanners at different hospitals. We will apply some normalization techniques so that intensities are similarly distributed and within similar ranges.\n",
        "\n",
        "Training the histogram is typically quite fast. It takes long here because of the fancy plotting."
      ]
    },
    {
      "cell_type": "code",
      "metadata": {
        "id": "kmjI8qKlZL1n",
        "colab": {
          "base_uri": "https://localhost:8080/",
          "height": 407
        },
        "outputId": "fde7ec35-0ad4-4e51-8e36-892f6fc4dab5"
      },
      "source": [
        "paths = image_paths\n",
        "\n",
        "if compute_histograms:\n",
        "    fig, ax = plt.subplots(dpi=100)\n",
        "    for path in tqdm(paths):\n",
        "        tensor = tio.ScalarImage(path).data\n",
        "        if 'HH' in path.name: color = 'red'\n",
        "        elif 'Guys' in path.name: color = 'green'\n",
        "        elif 'IOP' in path.name: color = 'blue'\n",
        "        plot_histogram(ax, tensor, color=color)\n",
        "    ax.set_xlim(-100, 2000)\n",
        "    ax.set_ylim(0, 0.004);\n",
        "    ax.set_title('Original histograms of all samples')\n",
        "    ax.set_xlabel('Intensity')\n",
        "    ax.grid()\n",
        "    graph = None\n",
        "else:\n",
        "    graph = display.Image(url='https://www.dropbox.com/s/daqsg3udk61v65i/hist_original.png?dl=1')\n",
        "graph"
      ],
      "execution_count": 9,
      "outputs": [
        {
          "output_type": "execute_result",
          "data": {
            "text/html": [
              "<img src=\"https://www.dropbox.com/s/daqsg3udk61v65i/hist_original.png?dl=1\"/>"
            ],
            "text/plain": [
              "<IPython.core.display.Image object>"
            ]
          },
          "metadata": {
            "tags": []
          },
          "execution_count": 9
        }
      ]
    },
    {
      "cell_type": "markdown",
      "metadata": {
        "id": "KFIR6OoFhYoc"
      },
      "source": [
        "##### Normalization"
      ]
    },
    {
      "cell_type": "markdown",
      "metadata": {
        "id": "L__o-xlJuAzp"
      },
      "source": [
        "We will use "
      ]
    },
    {
      "cell_type": "code",
      "metadata": {
        "id": "QGoCAJRTdMPB",
        "colab": {
          "base_uri": "https://localhost:8080/"
        },
        "outputId": "9a51b57e-584c-44b1-dea4-5d2b797f2e0f"
      },
      "source": [
        "landmarks = tio.HistogramStandardization.train(\n",
        "    image_paths,\n",
        "    output_path=histogram_landmarks_path,\n",
        ")\n",
        "np.set_printoptions(suppress=True, precision=3)\n",
        "print('\\nTrained landmarks:', landmarks)"
      ],
      "execution_count": 10,
      "outputs": [
        {
          "output_type": "stream",
          "text": [
            "100%|██████████| 566/566 [00:05<00:00, 110.55it/s]"
          ],
          "name": "stderr"
        },
        {
          "output_type": "stream",
          "text": [
            "\n",
            "Trained landmarks: [ -0.      0.002   0.108   0.227   0.467   2.014  15.205  34.297  49.664\n",
            "  55.569  61.178  74.005 100.   ]\n"
          ],
          "name": "stdout"
        },
        {
          "output_type": "stream",
          "text": [
            "\n"
          ],
          "name": "stderr"
        }
      ]
    },
    {
      "cell_type": "code",
      "metadata": {
        "id": "SE3mwfxsnp9G",
        "colab": {
          "base_uri": "https://localhost:8080/",
          "height": 407
        },
        "outputId": "cd42dd31-ff0a-499d-b9f1-9f8bfb1db5b3"
      },
      "source": [
        "landmarks_dict = {'mri': landmarks}\n",
        "histogram_transform = tio.HistogramStandardization(landmarks_dict)\n",
        "\n",
        "if compute_histograms:\n",
        "    fig, ax = plt.subplots(dpi=100)\n",
        "    for i ,sample in enumerate(tqdm(dataset)):\n",
        "        standard = histogram_transform(sample)\n",
        "        tensor = standard.mri.data\n",
        "        path = str(sample.mri.path)\n",
        "        if 'HH' in path: color = 'red'\n",
        "        elif 'Guys' in path: color = 'green'\n",
        "        elif 'IOP' in path: color = 'blue'\n",
        "        plot_histogram(ax, tensor, color=color)\n",
        "    ax.set_xlim(0, 150)\n",
        "    ax.set_ylim(0, 0.02)\n",
        "    ax.set_title('Intensity values of all samples after histogram standardization')\n",
        "    ax.set_xlabel('Intensity')\n",
        "    ax.grid()\n",
        "    graph = None\n",
        "else:\n",
        "    graph = display.Image(url='https://www.dropbox.com/s/dqqaf78c86mrsgn/hist_standard.png?dl=1')\n",
        "graph"
      ],
      "execution_count": 11,
      "outputs": [
        {
          "output_type": "execute_result",
          "data": {
            "text/html": [
              "<img src=\"https://www.dropbox.com/s/dqqaf78c86mrsgn/hist_standard.png?dl=1\"/>"
            ],
            "text/plain": [
              "<IPython.core.display.Image object>"
            ]
          },
          "metadata": {
            "tags": []
          },
          "execution_count": 11
        }
      ]
    },
    {
      "cell_type": "markdown",
      "metadata": {
        "id": "gRwy0BvAqnlL"
      },
      "source": [
        "##### Z-normalization"
      ]
    },
    {
      "cell_type": "code",
      "metadata": {
        "id": "wqX8VOOYpQDb",
        "colab": {
          "base_uri": "https://localhost:8080/",
          "height": 404
        },
        "outputId": "a7a1a0c6-6aee-4e7f-ba59-25f31616c208"
      },
      "source": [
        "znorm_transform = tio.ZNormalization(masking_method=tio.ZNormalization.mean)\n",
        "\n",
        "sample = dataset[0]\n",
        "transform = tio.Compose([histogram_transform, znorm_transform])\n",
        "znormed = transform(sample)\n",
        "\n",
        "fig, ax = plt.subplots(dpi=100)\n",
        "plot_histogram(ax, znormed.mri.data, label='Z-normed', alpha=1)\n",
        "ax.set_title('Intensity values of one sample after z-normalization')\n",
        "ax.set_xlabel('Intensity')\n",
        "ax.grid()"
      ],
      "execution_count": 12,
      "outputs": [
        {
          "output_type": "display_data",
          "data": {
            "image/png": "[encoded data removed]",
            "text/plain": [
              "<Figure size 600x400 with 1 Axes>"
            ]
          },
          "metadata": {
            "tags": [],
            "needs_background": "light"
          }
        }
      ]
    },
    {
      "cell_type": "markdown",
      "metadata": {
        "id": "yRqAI2ucBwHK"
      },
      "source": [
        "## Training a network\n",
        "\n"
      ]
    },
    {
      "cell_type": "code",
      "metadata": {
        "id": "p-V_kHC5BvST",
        "colab": {
          "base_uri": "https://localhost:8080/"
        },
        "outputId": "d238c068-6b03-4c59-afd9-93800ce7532a"
      },
      "source": [
        "training_transform = tio.Compose([\n",
        "    tio.ToCanonical(),\n",
        "    tio.Resample(4),\n",
        "    tio.CropOrPad((48, 60, 48)),\n",
        "    tio.RandomMotion(p=0.2),\n",
        "    tio.HistogramStandardization({'mri': landmarks}),\n",
        "    tio.RandomBiasField(p=0.3),\n",
        "    tio.ZNormalization(masking_method=tio.ZNormalization.mean),\n",
        "    tio.RandomNoise(p=0.5),\n",
        "    tio.RandomFlip(axes=(0,)),\n",
        "    tio.OneOf({\n",
        "        tio.RandomAffine(): 0.8,\n",
        "        tio.RandomElasticDeformation(): 0.2,\n",
        "    }),\n",
        "])\n",
        "\n",
        "validation_transform = tio.Compose([\n",
        "    tio.ToCanonical(),\n",
        "    tio.Resample(4),\n",
        "    tio.CropOrPad((48, 60, 48)),\n",
        "    tio.HistogramStandardization({'mri': landmarks}),\n",
        "    tio.ZNormalization(masking_method=tio.ZNormalization.mean),\n",
        "])\n",
        "\n",
        "num_subjects = len(dataset)\n",
        "num_training_subjects = int(training_split_ratio * num_subjects)\n",
        "\n",
        "training_subjects = subjects[:num_training_subjects]\n",
        "validation_subjects = subjects[num_training_subjects:]\n",
        "\n",
        "training_set = tio.SubjectsDataset(\n",
        "    training_subjects, transform=training_transform)\n",
        "\n",
        "validation_set = tio.SubjectsDataset(\n",
        "    validation_subjects, transform=validation_transform)\n",
        "\n",
        "print('Training set:', len(training_set), 'subjects')\n",
        "print('Validation set:', len(validation_set), 'subjects')"
      ],
      "execution_count": 13,
      "outputs": [
        {
          "output_type": "stream",
          "text": [
            "Training set: 509 subjects\n",
            "Validation set: 57 subjects\n"
          ],
          "name": "stdout"
        }
      ]
    },
    {
      "cell_type": "markdown",
      "metadata": {
        "id": "GKYR1N68zfTl"
      },
      "source": [
        "### Deep learning stuff"
      ]
    },
    {
      "cell_type": "code",
      "metadata": {
        "id": "oWbWAyFNTj74",
        "cellView": "form"
      },
      "source": [
        "#@title (Deep learning functions, double-click here to expand)\n",
        "device = torch.device('cuda') if torch.cuda.is_available() else 'cpu'\n",
        "CHANNELS_DIMENSION = 1\n",
        "SPATIAL_DIMENSIONS = 2, 3, 4\n",
        "\n",
        "class Action(enum.Enum):\n",
        "    TRAIN = 'Training'\n",
        "    VALIDATE = 'Validation'\n",
        "\n",
        "def prepare_batch(batch, device):\n",
        "    inputs = batch['mri'][DATA].to(device)\n",
        "    foreground = batch['brain'][DATA].to(device)\n",
        "    background = 1 - foreground\n",
        "    targets = torch.cat((background, foreground), dim=CHANNELS_DIMENSION)\n",
        "    return inputs, targets\n",
        "\n",
        "def get_dice_score(output, target, epsilon=1e-9):\n",
        "    p0 = output\n",
        "    g0 = target\n",
        "    p1 = 1 - p0\n",
        "    g1 = 1 - g0\n",
        "    tp = (p0 * g0).sum(dim=SPATIAL_DIMENSIONS)\n",
        "    fp = (p0 * g1).sum(dim=SPATIAL_DIMENSIONS)\n",
        "    fn = (p1 * g0).sum(dim=SPATIAL_DIMENSIONS)\n",
        "    num = 2 * tp\n",
        "    denom = 2 * tp + fp + fn + epsilon\n",
        "    dice_score = num / denom\n",
        "    return dice_score\n",
        "\n",
        "def get_dice_loss(output, target):\n",
        "    return 1 - get_dice_score(output, target)\n",
        "\n",
        "def forward(model, inputs):\n",
        "    with warnings.catch_warnings():\n",
        "        warnings.filterwarnings(\"ignore\", category=UserWarning)\n",
        "        logits = model(inputs)\n",
        "    return logits\n",
        "\n",
        "def get_model_and_optimizer(device):\n",
        "    model = UNet(\n",
        "        in_channels=1,\n",
        "        out_classes=2,\n",
        "        dimensions=3,\n",
        "        num_encoding_blocks=3,\n",
        "        out_channels_first_layer=8,\n",
        "        normalization='batch',\n",
        "        upsampling_type='linear',\n",
        "        padding=True,\n",
        "        activation='PReLU',\n",
        "    ).to(device)\n",
        "    optimizer = torch.optim.AdamW(model.parameters())\n",
        "    return model, optimizer\n",
        "\n",
        "def run_epoch(epoch_idx, action, loader, model, optimizer):\n",
        "    is_training = action == Action.TRAIN\n",
        "    epoch_losses = []\n",
        "    model.train(is_training)\n",
        "    for batch_idx, batch in enumerate(tqdm(loader)):\n",
        "        inputs, targets = prepare_batch(batch, device)\n",
        "        optimizer.zero_grad()\n",
        "        with torch.set_grad_enabled(is_training):\n",
        "            logits = forward(model, inputs)\n",
        "            probabilities = F.softmax(logits, dim=CHANNELS_DIMENSION)\n",
        "            batch_losses = get_dice_loss(probabilities, targets)\n",
        "            batch_loss = batch_losses.mean()\n",
        "            if is_training:\n",
        "                batch_loss.backward()\n",
        "                optimizer.step()\n",
        "            epoch_losses.append(batch_loss.item())\n",
        "    epoch_losses = np.array(epoch_losses)\n",
        "    print(f'{action.value} mean loss: {epoch_losses.mean():0.3f}')\n",
        "\n",
        "def train(num_epochs, training_loader, validation_loader, model, optimizer, weights_stem):\n",
        "    run_epoch(0, Action.VALIDATE, validation_loader, model, optimizer)\n",
        "    for epoch_idx in range(1, num_epochs + 1):\n",
        "        print('Starting epoch', epoch_idx)\n",
        "        run_epoch(epoch_idx, Action.TRAIN, training_loader, model, optimizer)\n",
        "        run_epoch(epoch_idx, Action.VALIDATE, validation_loader, model, optimizer)\n",
        "        torch.save(model.state_dict(), f'{weights_stem}_epoch_{epoch_idx}.pth')"
      ],
      "execution_count": 14,
      "outputs": []
    },
    {
      "cell_type": "code",
      "metadata": {
        "id": "yi1r0WusRHit",
        "colab": {
          "base_uri": "https://localhost:8080/",
          "height": 266
        },
        "outputId": "e448aa0f-3fbc-4d17-ca4d-664125ded4d2"
      },
      "source": [
        "training_instance = training_set[42]  # transform is applied in SubjectsDataset\n",
        "show_subject(training_instance, 'mri', label_name='brain')"
      ],
      "execution_count": 15,
      "outputs": [
        {
          "output_type": "display_data",
          "data": {
            "image/png": "[encoded data removed]",
            "text/plain": [
              "<Figure size 432x288 with 1 Axes>"
            ]
          },
          "metadata": {
            "tags": [],
            "needs_background": "light"
          }
        }
      ]
    },
    {
      "cell_type": "code",
      "metadata": {
        "id": "FqAG9FAE6jkq",
        "colab": {
          "base_uri": "https://localhost:8080/",
          "height": 266
        },
        "outputId": "f726a31f-d36a-4152-98b8-9b33cb4f6004"
      },
      "source": [
        "validation_instance = validation_set[42]\n",
        "show_subject(validation_instance, 'mri', label_name='brain')"
      ],
      "execution_count": 16,
      "outputs": [
        {
          "output_type": "display_data",
          "data": {
            "image/png": "[encoded data removed]",
            "text/plain": [
              "<Figure size 432x288 with 1 Axes>"
            ]
          },
          "metadata": {
            "tags": [],
            "needs_background": "light"
          }
        }
      ]
    },
    {
      "cell_type": "markdown",
      "metadata": {
        "id": "JvlZWhmQLy1A"
      },
      "source": [
        "### Whole images"
      ]
    },
    {
      "cell_type": "code",
      "metadata": {
        "id": "_ZfCg1k4Lzk-"
      },
      "source": [
        "training_batch_size = 16\n",
        "validation_batch_size = 2 * training_batch_size\n",
        "\n",
        "training_loader = torch.utils.data.DataLoader(\n",
        "    training_set,\n",
        "    batch_size=training_batch_size,\n",
        "    shuffle=True,\n",
        "    num_workers=multiprocessing.cpu_count(),\n",
        ")\n",
        "\n",
        "validation_loader = torch.utils.data.DataLoader(\n",
        "    validation_set,\n",
        "    batch_size=validation_batch_size,\n",
        "    num_workers=multiprocessing.cpu_count(),\n",
        ")"
      ],
      "execution_count": 17,
      "outputs": []
    },
    {
      "cell_type": "markdown",
      "metadata": {
        "id": "SKzPHvIEPuOX"
      },
      "source": [
        "Visualize axial slices of one batch"
      ]
    },
    {
      "cell_type": "code",
      "metadata": {
        "id": "bkqoMuhjbmYv"
      },
      "source": [
        "one_batch = next(iter(training_loader))"
      ],
      "execution_count": 18,
      "outputs": []
    },
    {
      "cell_type": "code",
      "metadata": {
        "id": "-YLjzK0CP6WK",
        "colab": {
          "base_uri": "https://localhost:8080/",
          "height": 208
        },
        "outputId": "b8e29db0-4c44-434d-8607-3665ac40b44d"
      },
      "source": [
        "k = 24\n",
        "batch_mri = one_batch['mri'][DATA][..., k]\n",
        "batch_label = one_batch['brain'][DATA][..., k]\n",
        "slices = torch.cat((batch_mri, batch_label))\n",
        "image_path = 'batch_whole_images.png'\n",
        "save_image(slices, image_path, nrow=training_batch_size//2, normalize=True, scale_each=True, padding=0)\n",
        "display.Image(image_path)"
      ],
      "execution_count": 19,
      "outputs": [
        {
          "output_type": "execute_result",
          "data": {
            "image/png": "[encoded data removed]",
            "text/plain": [
              "<IPython.core.display.Image object>"
            ]
          },
          "metadata": {
            "tags": []
          },
          "execution_count": 19
        }
      ]
    },
    {
      "cell_type": "markdown",
      "metadata": {
        "id": "VujHc3fjP6dk"
      },
      "source": [
        "Train"
      ]
    },
    {
      "cell_type": "code",
      "metadata": {
        "id": "LFpQsUAyPxeA"
      },
      "source": [
        "model, optimizer = get_model_and_optimizer(device)\n",
        "\n",
        "if train_whole_images:\n",
        "    weights_stem = 'whole_images'\n",
        "    train(num_epochs, training_loader, validation_loader, model, optimizer, weights_stem)\n",
        "else:\n",
        "    weights_path = 'whole_image_state_dict.pth'\n",
        "    weights_url = 'https://github.com/fepegar/torchio-data/raw/master/models/whole_images_epoch_5.pth'\n",
        "    !curl --location --silent --output {weights_path} {weights_url}\n",
        "    model.load_state_dict(torch.load(weights_path))"
      ],
      "execution_count": 20,
      "outputs": []
    },
    {
      "cell_type": "markdown",
      "metadata": {
        "id": "sS4xOEbwhKVU"
      },
      "source": [
        "Inference"
      ]
    },
    {
      "cell_type": "code",
      "metadata": {
        "id": "U-5ZGq5UZ5QK",
        "cellView": "both",
        "colab": {
          "base_uri": "https://localhost:8080/",
          "height": 266
        },
        "outputId": "de501112-fa04-4b07-a000-303496ccf382"
      },
      "source": [
        "batch = next(iter(validation_loader))\n",
        "model.eval()\n",
        "inputs, targets = prepare_batch(batch, device)\n",
        "with torch.no_grad():\n",
        "    logits = forward(model, inputs)\n",
        "labels = logits.argmax(dim=CHANNELS_DIMENSION, keepdim=True)\n",
        "foreground = labels[0].cpu().numpy().astype(np.uint8)\n",
        "affine = batch['mri'][AFFINE][0].numpy()\n",
        "label_image = tio.io.nib_to_sitk(foreground, affine)\n",
        "border = sitk.BinaryContour(label_image)\n",
        "border_array, _ = tio.io.sitk_to_nib(border)\n",
        "image_array = inputs[0, 0].cpu().numpy()\n",
        "image_array[border_array[0] > 0.5] = image_array.max()\n",
        "nii = nib.Nifti1Image(image_array, affine)\n",
        "show_nifti(nii)"
      ],
      "execution_count": 21,
      "outputs": [
        {
          "output_type": "display_data",
          "data": {
            "image/png": "[encoded data removed]",
            "text/plain": [
              "<Figure size 432x288 with 1 Axes>"
            ]
          },
          "metadata": {
            "tags": [],
            "needs_background": "light"
          }
        }
      ]
    },
    {
      "cell_type": "markdown",
      "metadata": {
        "id": "sWPzwJUoMTM_"
      },
      "source": [
        "### Patch-based"
      ]
    },
    {
      "cell_type": "code",
      "metadata": {
        "id": "ljmMI_-Uhf7J"
      },
      "source": [
        "training_batch_size = 32\n",
        "validation_batch_size = 2 * training_batch_size\n",
        "\n",
        "patch_size = 24\n",
        "samples_per_volume = 5\n",
        "max_queue_length = 300\n",
        "\n",
        "patches_training_set = tio.Queue(\n",
        "    subjects_dataset=training_set,\n",
        "    max_length=max_queue_length,\n",
        "    samples_per_volume=samples_per_volume,\n",
        "    sampler=tio.data.UniformSampler(patch_size),\n",
        "    num_workers=multiprocessing.cpu_count(),\n",
        "    shuffle_subjects=True,\n",
        "    shuffle_patches=True,\n",
        ")\n",
        "\n",
        "patches_validation_set = tio.Queue(\n",
        "    subjects_dataset=validation_set,\n",
        "    max_length=max_queue_length,\n",
        "    samples_per_volume=samples_per_volume,\n",
        "    sampler=tio.data.UniformSampler(patch_size),\n",
        "    num_workers=multiprocessing.cpu_count(),\n",
        "    shuffle_subjects=False,\n",
        "    shuffle_patches=False,\n",
        ")\n",
        "\n",
        "training_loader = torch.utils.data.DataLoader(\n",
        "    patches_training_set, batch_size=training_batch_size)\n",
        "\n",
        "validation_loader = torch.utils.data.DataLoader(\n",
        "    patches_validation_set, batch_size=validation_batch_size)"
      ],
      "execution_count": 22,
      "outputs": []
    },
    {
      "cell_type": "markdown",
      "metadata": {
        "id": "ZfV5P1VeP9HA"
      },
      "source": [
        "Visualize axial slices of one batch"
      ]
    },
    {
      "cell_type": "code",
      "metadata": {
        "id": "Fvy9DIK2YIgb",
        "colab": {
          "base_uri": "https://localhost:8080/",
          "height": 71
        },
        "outputId": "57aaaa19-7b4c-414f-eb4c-be1d0a7198a2"
      },
      "source": [
        "one_batch = next(iter(training_loader))\n",
        "k = int(patch_size // 4)\n",
        "batch_mri = one_batch['mri'][DATA][..., k]\n",
        "batch_label = one_batch['brain'][DATA][..., k]\n",
        "slices = torch.cat((batch_mri, batch_label))\n",
        "image_path = 'batch_patches.png'\n",
        "save_image(slices, image_path, nrow=training_batch_size, normalize=True, scale_each=True)\n",
        "display.Image(image_path)"
      ],
      "execution_count": 23,
      "outputs": [
        {
          "output_type": "execute_result",
          "data": {
            "image/png": "[encoded data removed]",
            "text/plain": [
              "<IPython.core.display.Image object>"
            ]
          },
          "metadata": {
            "tags": []
          },
          "execution_count": 23
        }
      ]
    },
    {
      "cell_type": "markdown",
      "metadata": {
        "id": "QCFS5pLjQAdK"
      },
      "source": [
        "Train"
      ]
    },
    {
      "cell_type": "code",
      "metadata": {
        "id": "s9a9YNLBQGSq"
      },
      "source": [
        "model, optimizer = get_model_and_optimizer(device)\n",
        "\n",
        "if train_patches:\n",
        "    weights_stem = 'patches'\n",
        "    train(num_epochs, training_loader, validation_loader, model, optimizer, weights_stem)\n",
        "else:\n",
        "    weights_path = 'patches_state_dict.pth'\n",
        "    weights_url = 'https://github.com/fepegar/torchio-data/raw/master/models/patches_epoch_5.pth'\n",
        "    !curl --location --silent --output {weights_path} {weights_url}\n",
        "    model.load_state_dict(torch.load(weights_path))"
      ],
      "execution_count": 24,
      "outputs": []
    },
    {
      "cell_type": "markdown",
      "metadata": {
        "id": "wdYZ1xThQHoK"
      },
      "source": [
        "Infer"
      ]
    },
    {
      "cell_type": "code",
      "metadata": {
        "id": "SKu8k5Z2wkSD",
        "colab": {
          "base_uri": "https://localhost:8080/",
          "height": 357
        },
        "outputId": "87267b3d-6284-4fd5-fe8d-1f4b5979bdd9"
      },
      "source": [
        "sample = random.choice(validation_set)\n",
        "input_tensor = sample.mri.data[0]\n",
        "patch_size = 48, 48, 48  # we can user larger patches for inference\n",
        "patch_overlap = 4, 4, 4\n",
        "grid_sampler = tio.inference.GridSampler(\n",
        "    sample,\n",
        "    patch_size,\n",
        "    patch_overlap,\n",
        ")\n",
        "patch_loader = torch.utils.data.DataLoader(\n",
        "    grid_sampler, batch_size=validation_batch_size)\n",
        "aggregator = tio.inference.GridAggregator(grid_sampler)\n",
        "\n",
        "model.eval()\n",
        "with torch.no_grad():\n",
        "    for patches_batch in patch_loader:\n",
        "        inputs = patches_batch['mri'][DATA].to(device)\n",
        "        locations = patches_batch[tio.LOCATION]\n",
        "        logits = model(inputs)\n",
        "        labels = logits.argmax(dim=CHANNELS_DIMENSION, keepdim=True)\n",
        "        aggregator.add_batch(labels, locations)\n",
        "\n",
        "foreground = aggregator.get_output_tensor()\n",
        "affine = sample.mri.affine\n",
        "label_image = tio.io.nib_to_sitk(foreground, affine)\n",
        "border = sitk.BinaryContour(label_image)\n",
        "border_array, _ = tio.io.sitk_to_nib(border)\n",
        "input_tensor[border_array > 0.5] = input_tensor.max()\n",
        "nii = nib.Nifti1Image(input_tensor.numpy(), affine)\n",
        "show_nifti(nii)"
      ],
      "execution_count": 25,
      "outputs": [
        {
          "output_type": "stream",
          "text": [
            "/usr/local/lib/python3.6/dist-packages/torch/nn/functional.py:3063: UserWarning: Default upsampling behavior when mode=trilinear is changed to align_corners=False since 0.4.0. Please specify align_corners=True if the old behavior is desired. See the documentation of nn.Upsample for details.\n",
            "  \"See the documentation of nn.Upsample for details.\".format(mode))\n",
            "/usr/local/lib/python3.6/dist-packages/torchio/data/inference/aggregator.py:160: RuntimeWarning: Medical image frameworks such as ITK do not support int64. Casting to int32...\n",
            "  warnings.warn(message, RuntimeWarning)\n"
          ],
          "name": "stderr"
        },
        {
          "output_type": "display_data",
          "data": {
            "image/png": "[encoded data removed]",
            "text/plain": [
              "<Figure size 432x288 with 1 Axes>"
            ]
          },
          "metadata": {
            "tags": [],
            "needs_background": "light"
          }
        }
      ]
    }
  ]
}